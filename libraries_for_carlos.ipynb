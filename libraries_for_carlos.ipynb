{
 "cells": [
  {
   "cell_type": "code",
   "execution_count": 1,
   "metadata": {},
   "outputs": [
    {
     "name": "stdout",
     "output_type": "stream",
     "text": [
      "\u001b[31mACC_form_Filled.docx\u001b[m\u001b[m          \u001b[31mGibbs_sampler_DAG_Wishart.R\u001b[m\u001b[m\r\n",
      "\u001b[31mCONCORD_EM.R\u001b[m\u001b[m                  \u001b[31mModel_Sel_Bayes_DAG_SSS.r\u001b[m\u001b[m\r\n",
      "\u001b[31mCSCS_EM.r\u001b[m\u001b[m                     Model_Sel_Bayes_SSS.R\r\n",
      "\u001b[31mGLasso_EM.R\u001b[m\u001b[m                   libraries_for_carlos.ipynb\r\n",
      "\u001b[31mGibbs_Sampler_General_Graph.R\u001b[m\u001b[m\r\n"
     ]
    }
   ],
   "source": [
    "!ls"
   ]
  },
  {
   "cell_type": "code",
   "execution_count": 2,
   "metadata": {},
   "outputs": [],
   "source": [
    "import os"
   ]
  },
  {
   "cell_type": "code",
   "execution_count": 7,
   "metadata": {},
   "outputs": [],
   "source": [
    "all_files = os.listdir(os.getcwd())"
   ]
  },
  {
   "cell_type": "code",
   "execution_count": 10,
   "metadata": {},
   "outputs": [],
   "source": [
    "all_files = [x for x in all_files if x.endswith('.R') or x.endswith('.r')]"
   ]
  },
  {
   "cell_type": "code",
   "execution_count": 27,
   "metadata": {},
   "outputs": [
    {
     "name": "stdout",
     "output_type": "stream",
     "text": [
      "['\\tlibrary(Matrix)\\n', 'library(BDgraph)\\n', '\\tlibrary(glasso)\\n', '      library(Matrix)\\n', '      library(lassoshooting)\\n', 'library(mvtnorm)\\n']\n",
      "----------------------------------\n",
      "['  library(Matrix)\\n', ' library(pscl)\\n', ' library(mvtnorm) \\n', ' library(Matrix)\\n', '   library(mvtnorm) \\n', '   library(pscl)\\n']\n",
      "----------------------------------\n",
      "['  library(Matrix)\\n', '\\tlibrary(Matrix)\\n', 'library(BDgraph)\\n', '\\tlibrary(glasso)\\n', '      library(Matrix)\\n', 'library(mvtnorm)\\n', '\\tlibrary(Matrix)\\n']\n",
      "----------------------------------\n",
      "['\\tlibrary(Matrix)\\n']\n",
      "----------------------------------\n",
      "['\\tlibrary(Matrix)\\n', '  library(mvtnorm)\\n', '   library(pscl)\\n', '  library(BDgraph)\\n']\n",
      "----------------------------------\n",
      "['  library(Matrix)\\n', 'library(BDgraph)\\n', '   library(mvtnorm) \\n', '   library(pscl)\\n']\n",
      "----------------------------------\n",
      "['\\tlibrary(Matrix)\\n', 'library(BDgraph)\\n', '\\tlibrary(glasso)\\n', '      library(Matrix)\\n', 'library(mvtnorm)\\n']\n",
      "----------------------------------\n"
     ]
    }
   ],
   "source": [
    "libraries = set()\n",
    "for file in all_files:\n",
    "    f = open(file, \"r\")\n",
    "    text = f.readlines()\n",
    "    print([x for x in text if 'library(' in x])\n",
    "    libraries.update([x.replace('\\t','').replace('\\n','').lstrip().rstrip() for x in text if 'library(' in x])\n",
    "    print('----------------------------------')\n",
    "    f.close()"
   ]
  },
  {
   "cell_type": "code",
   "execution_count": 28,
   "metadata": {},
   "outputs": [
    {
     "data": {
      "text/plain": [
       "{'library(BDgraph)',\n",
       " 'library(Matrix)',\n",
       " 'library(glasso)',\n",
       " 'library(lassoshooting)',\n",
       " 'library(mvtnorm)',\n",
       " 'library(pscl)'}"
      ]
     },
     "execution_count": 28,
     "metadata": {},
     "output_type": "execute_result"
    }
   ],
   "source": [
    "libraries"
   ]
  },
  {
   "cell_type": "code",
   "execution_count": null,
   "metadata": {},
   "outputs": [],
   "source": []
  }
 ],
 "metadata": {
  "kernelspec": {
   "display_name": "Python 3",
   "language": "python",
   "name": "python3"
  },
  "language_info": {
   "codemirror_mode": {
    "name": "ipython",
    "version": 3
   },
   "file_extension": ".py",
   "mimetype": "text/x-python",
   "name": "python",
   "nbconvert_exporter": "python",
   "pygments_lexer": "ipython3",
   "version": "3.7.1"
  }
 },
 "nbformat": 4,
 "nbformat_minor": 2
}
